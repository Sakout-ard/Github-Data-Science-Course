{
  "nbformat": 4,
  "nbformat_minor": 0,
  "metadata": {
    "colab": {
      "provenance": []
    },
    "kernelspec": {
      "name": "python3",
      "display_name": "Python 3"
    },
    "language_info": {
      "name": "python"
    }
  },
  "cells": [
    {
      "cell_type": "markdown",
      "source": [
        "# Data Science Tools and Ecosystem"
      ],
      "metadata": {
        "id": "FOtf7L_6wmNK"
      }
    },
    {
      "cell_type": "markdown",
      "source": [
        "In this notebook, Data Science Tools and Ecosystem are summarized."
      ],
      "metadata": {
        "id": "lW33XPLYw4pU"
      }
    },
    {
      "cell_type": "markdown",
      "source": [
        "Some of the popular languages that Data Scientists use are:\n",
        "\n",
        "1. **Python:** Widely used for its simplicity and versatility. Python has a rich ecosystem of libraries and frameworks like Pandas, NumPy, and scikit-learn.\n",
        "\n",
        "2. **R:** Especially popular in academia and statistics, R provides powerful statistical and data visualization capabilities.\n",
        "\n",
        "3. **SQL:** Essential for working with relational databases, as data scientists often need to extract, manipulate, and analyze data stored in databases.\n",
        "\n",
        "4. **Julia:** Known for its high-performance capabilities, Julia is gaining popularity in data science for computationally intensive tasks.\n",
        "\n",
        "5. **Scala:** Often used in combination with Apache Spark for big data processing and analysis.\n"
      ],
      "metadata": {
        "id": "WLB1neOhxBan"
      }
    },
    {
      "cell_type": "markdown",
      "source": [
        "Some of the commonly used libraries by Data Scientists include:\n",
        "\n",
        "1. **Pandas:** A powerful data manipulation library in Python, widely used for data cleaning, analysis, and transformation.\n",
        "\n",
        "2. **NumPy:** The fundamental package for scientific computing in Python, providing support for large, multi-dimensional arrays and matrices.\n",
        "\n",
        "3. **scikit-learn:** A machine learning library in Python, offering simple and efficient tools for data mining and data analysis.\n",
        "\n",
        "4. **Matplotlib:** A comprehensive library for creating static, animated, and interactive visualizations in Python.\n",
        "\n",
        "5. **TensorFlow:** An open-source machine learning framework developed by Google, widely used for building and training deep learning models.\n",
        "\n",
        "6. **Seaborn:** Built on top of Matplotlib, Seaborn provides a high-level interface for creating attractive and informative statistical graphics.\n"
      ],
      "metadata": {
        "id": "JOGbmbvtxJ4-"
      }
    },
    {
      "cell_type": "markdown",
      "source": [
        "| Data Science Tools       |\n",
        "|--------------------------|\n",
        "| Jupyter Notebook         |\n",
        "| RStudio                  |\n",
        "| VS Code (Visual Studio Code)|\n"
      ],
      "metadata": {
        "id": "Cn8OXZgmxP5A"
      }
    },
    {
      "cell_type": "markdown",
      "source": [
        "### Below are a few examples of evaluating arithmetic expressions in Python."
      ],
      "metadata": {
        "id": "8tPMJt24xXCo"
      }
    },
    {
      "cell_type": "code",
      "source": [
        "# This is a simple arithmetic expression to multiply then add integers.\n",
        "result = (3 * 4) + 5\n",
        "\n",
        "# Display the result\n",
        "print(result)\n"
      ],
      "metadata": {
        "colab": {
          "base_uri": "https://localhost:8080/"
        },
        "id": "q1Isj0g3xUZ1",
        "outputId": "36b27dda-8d3a-422b-edf4-e5033c77ac7c"
      },
      "execution_count": 3,
      "outputs": [
        {
          "output_type": "stream",
          "name": "stdout",
          "text": [
            "17\n"
          ]
        }
      ]
    },
    {
      "cell_type": "code",
      "source": [
        "# This will convert 200 minutes to hours by dividing by 60.\n",
        "hours = 200 / 60\n",
        "\n",
        "# Display the result\n",
        "print(hours)\n"
      ],
      "metadata": {
        "colab": {
          "base_uri": "https://localhost:8080/"
        },
        "id": "ak9uZ_YYxctN",
        "outputId": "4287c1e3-25e0-4e49-a42b-369d7794bca2"
      },
      "execution_count": 4,
      "outputs": [
        {
          "output_type": "stream",
          "name": "stdout",
          "text": [
            "3.3333333333333335\n"
          ]
        }
      ]
    },
    {
      "cell_type": "markdown",
      "source": [
        "**Objectives:**\n",
        "\n",
        "- Understand the popular languages used in Data Science.\n",
        "- Explore common libraries and tools employed by Data Scientists.\n",
        "- Learn how to create visualizations using various libraries.\n",
        "- Practice evaluating arithmetic expressions and performing calculations in Python.\n",
        "- Gain experience with Jupyter Notebook functionalities and Markdown formatting.\n"
      ],
      "metadata": {
        "id": "FUangNKuxpat"
      }
    },
    {
      "cell_type": "markdown",
      "source": [
        "## Author\n",
        "SAKOUT Kamal\n"
      ],
      "metadata": {
        "id": "i16r1Evuxupt"
      }
    },
    {
      "cell_type": "code",
      "source": [],
      "metadata": {
        "id": "xPKw7EZaxvPd"
      },
      "execution_count": null,
      "outputs": []
    }
  ]
}